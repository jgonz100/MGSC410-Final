{
 "cells": [
  {
   "cell_type": "markdown",
   "metadata": {},
   "source": [
    "# Goals\n",
    "- Determine the most valuable subscribers\n",
    "- Understand subscriber segments\n",
    "- What subscribers could be sold additional products/services\n",
    "- Find the subscriber profile of those not continuing with the product\n",
    "- Find out how to deepen subscriber engagement\n",
    "- Identify any other opportunities that arise from analysis\n",
    "## Questions\n",
    "- Should we standardize purchase ammount, or recalculate based on the date data\n",
    "- Due to some columns >50% null, should we do use some sampling techniques \n",
    "- Are the ids guaranteed to be unique \n",
    "## Contact Info\n",
    "tonks@chapman.edu\n",
    "flath@chapman.edu\n",
    "jgonzalez@chapman.edu\n",
    "tsirtsis@chapman.edu\n",
    "dkeefe@chapman.edu\n"
   ]
  },
  {
   "cell_type": "code",
   "execution_count": 54,
   "metadata": {},
   "outputs": [],
   "source": [
    "import pandas as pd\n",
    "import numpy as np\n",
    "from plotnine import *\n",
    "from sklearn.cluster import KMeans\n",
    "import matplotlib.pyplot as plt\n",
    "from yellowbrick.cluster import KElbowVisualizer\n",
    "import seaborn as sb\n",
    "from sklearn.preprocessing import StandardScaler\n",
    "from scipy import stats\n",
    "import datetime"
   ]
  },
  {
   "cell_type": "markdown",
   "metadata": {},
   "source": [
    "### Subscriber Data"
   ]
  },
  {
   "cell_type": "code",
   "execution_count": 2,
   "metadata": {},
   "outputs": [
    {
     "data": {
      "text/html": [
       "<div>\n",
       "<style scoped>\n",
       "    .dataframe tbody tr th:only-of-type {\n",
       "        vertical-align: middle;\n",
       "    }\n",
       "\n",
       "    .dataframe tbody tr th {\n",
       "        vertical-align: top;\n",
       "    }\n",
       "\n",
       "    .dataframe thead th {\n",
       "        text-align: right;\n",
       "    }\n",
       "</style>\n",
       "<table border=\"1\" class=\"dataframe\">\n",
       "  <thead>\n",
       "    <tr style=\"text-align: right;\">\n",
       "      <th></th>\n",
       "      <th>ID</th>\n",
       "      <th>Language</th>\n",
       "      <th>Subscription Type</th>\n",
       "      <th>Subscription Event Type</th>\n",
       "      <th>Purchase Store</th>\n",
       "      <th>Purchase Amount</th>\n",
       "      <th>Currency</th>\n",
       "      <th>Subscription Start Date</th>\n",
       "      <th>Subscription Expiration</th>\n",
       "      <th>Demo User</th>\n",
       "      <th>...</th>\n",
       "      <th>Country</th>\n",
       "      <th>User Type</th>\n",
       "      <th>Lead Platform</th>\n",
       "      <th>Email Subscriber</th>\n",
       "      <th>Push Notifications</th>\n",
       "      <th>Send Count</th>\n",
       "      <th>Open Count</th>\n",
       "      <th>Click Count</th>\n",
       "      <th>Unique Open Count</th>\n",
       "      <th>Unique Click Count</th>\n",
       "    </tr>\n",
       "  </thead>\n",
       "  <tbody>\n",
       "    <tr>\n",
       "      <th>0</th>\n",
       "      <td>1</td>\n",
       "      <td>POR</td>\n",
       "      <td>Limited</td>\n",
       "      <td>INITIAL_PURCHASE</td>\n",
       "      <td>App</td>\n",
       "      <td>NaN</td>\n",
       "      <td>NaN</td>\n",
       "      <td>12/28/2018</td>\n",
       "      <td>6/28/2019</td>\n",
       "      <td>Yes</td>\n",
       "      <td>...</td>\n",
       "      <td>US/Canada</td>\n",
       "      <td>Consumer</td>\n",
       "      <td>App</td>\n",
       "      <td>Yes</td>\n",
       "      <td>Yes</td>\n",
       "      <td>63.0</td>\n",
       "      <td>7.0</td>\n",
       "      <td>0.0</td>\n",
       "      <td>6.0</td>\n",
       "      <td>0.0</td>\n",
       "    </tr>\n",
       "    <tr>\n",
       "      <th>1</th>\n",
       "      <td>2</td>\n",
       "      <td>EBR</td>\n",
       "      <td>Limited</td>\n",
       "      <td>INITIAL_PURCHASE</td>\n",
       "      <td>Web</td>\n",
       "      <td>39.0</td>\n",
       "      <td>USD</td>\n",
       "      <td>11/28/2019</td>\n",
       "      <td>2/28/2020</td>\n",
       "      <td>No</td>\n",
       "      <td>...</td>\n",
       "      <td>Other</td>\n",
       "      <td>Consumer</td>\n",
       "      <td>Web</td>\n",
       "      <td>No</td>\n",
       "      <td>Yes</td>\n",
       "      <td>4.0</td>\n",
       "      <td>3.0</td>\n",
       "      <td>0.0</td>\n",
       "      <td>1.0</td>\n",
       "      <td>0.0</td>\n",
       "    </tr>\n",
       "    <tr>\n",
       "      <th>2</th>\n",
       "      <td>3</td>\n",
       "      <td>ESP</td>\n",
       "      <td>Limited</td>\n",
       "      <td>INITIAL_PURCHASE</td>\n",
       "      <td>Web</td>\n",
       "      <td>0.0</td>\n",
       "      <td>USD</td>\n",
       "      <td>12/31/2018</td>\n",
       "      <td>12/31/2019</td>\n",
       "      <td>No</td>\n",
       "      <td>...</td>\n",
       "      <td>US/Canada</td>\n",
       "      <td>Consumer</td>\n",
       "      <td>Web</td>\n",
       "      <td>Yes</td>\n",
       "      <td>Yes</td>\n",
       "      <td>1.0</td>\n",
       "      <td>0.0</td>\n",
       "      <td>0.0</td>\n",
       "      <td>0.0</td>\n",
       "      <td>0.0</td>\n",
       "    </tr>\n",
       "    <tr>\n",
       "      <th>3</th>\n",
       "      <td>4</td>\n",
       "      <td>KOR</td>\n",
       "      <td>Limited</td>\n",
       "      <td>INITIAL_PURCHASE</td>\n",
       "      <td>App</td>\n",
       "      <td>NaN</td>\n",
       "      <td>NaN</td>\n",
       "      <td>11/7/2019</td>\n",
       "      <td>2/7/2020</td>\n",
       "      <td>Yes</td>\n",
       "      <td>...</td>\n",
       "      <td>US/Canada</td>\n",
       "      <td>Consumer</td>\n",
       "      <td>App</td>\n",
       "      <td>Yes</td>\n",
       "      <td>Yes</td>\n",
       "      <td>14.0</td>\n",
       "      <td>0.0</td>\n",
       "      <td>0.0</td>\n",
       "      <td>0.0</td>\n",
       "      <td>0.0</td>\n",
       "    </tr>\n",
       "    <tr>\n",
       "      <th>4</th>\n",
       "      <td>5</td>\n",
       "      <td>ENG</td>\n",
       "      <td>Limited</td>\n",
       "      <td>INITIAL_PURCHASE</td>\n",
       "      <td>App</td>\n",
       "      <td>NaN</td>\n",
       "      <td>NaN</td>\n",
       "      <td>8/13/2019</td>\n",
       "      <td>11/13/2019</td>\n",
       "      <td>No</td>\n",
       "      <td>...</td>\n",
       "      <td>US/Canada</td>\n",
       "      <td>Consumer</td>\n",
       "      <td>Web</td>\n",
       "      <td>Yes</td>\n",
       "      <td>Yes</td>\n",
       "      <td>80.0</td>\n",
       "      <td>5.0</td>\n",
       "      <td>1.0</td>\n",
       "      <td>5.0</td>\n",
       "      <td>1.0</td>\n",
       "    </tr>\n",
       "  </tbody>\n",
       "</table>\n",
       "<p>5 rows × 24 columns</p>\n",
       "</div>"
      ],
      "text/plain": [
       "   ID Language Subscription Type Subscription Event Type Purchase Store  \\\n",
       "0   1      POR           Limited        INITIAL_PURCHASE            App   \n",
       "1   2      EBR           Limited        INITIAL_PURCHASE            Web   \n",
       "2   3      ESP           Limited        INITIAL_PURCHASE            Web   \n",
       "3   4      KOR           Limited        INITIAL_PURCHASE            App   \n",
       "4   5      ENG           Limited        INITIAL_PURCHASE            App   \n",
       "\n",
       "   Purchase Amount Currency Subscription Start Date Subscription Expiration  \\\n",
       "0              NaN      NaN              12/28/2018               6/28/2019   \n",
       "1             39.0      USD              11/28/2019               2/28/2020   \n",
       "2              0.0      USD              12/31/2018              12/31/2019   \n",
       "3              NaN      NaN               11/7/2019                2/7/2020   \n",
       "4              NaN      NaN               8/13/2019              11/13/2019   \n",
       "\n",
       "  Demo User  ...    Country User Type Lead Platform Email Subscriber  \\\n",
       "0       Yes  ...  US/Canada  Consumer           App              Yes   \n",
       "1        No  ...      Other  Consumer           Web               No   \n",
       "2        No  ...  US/Canada  Consumer           Web              Yes   \n",
       "3       Yes  ...  US/Canada  Consumer           App              Yes   \n",
       "4        No  ...  US/Canada  Consumer           Web              Yes   \n",
       "\n",
       "  Push Notifications Send Count Open Count Click Count Unique Open Count  \\\n",
       "0                Yes       63.0        7.0         0.0               6.0   \n",
       "1                Yes        4.0        3.0         0.0               1.0   \n",
       "2                Yes        1.0        0.0         0.0               0.0   \n",
       "3                Yes       14.0        0.0         0.0               0.0   \n",
       "4                Yes       80.0        5.0         1.0               5.0   \n",
       "\n",
       "   Unique Click Count  \n",
       "0                 0.0  \n",
       "1                 0.0  \n",
       "2                 0.0  \n",
       "3                 0.0  \n",
       "4                 1.0  \n",
       "\n",
       "[5 rows x 24 columns]"
      ]
     },
     "execution_count": 2,
     "metadata": {},
     "output_type": "execute_result"
    }
   ],
   "source": [
    "subscriber = pd.read_csv(\"data/subscriber.csv\")\n",
    "subscriber.head()"
   ]
  },
  {
   "cell_type": "code",
   "execution_count": 3,
   "metadata": {},
   "outputs": [
    {
     "name": "stdout",
     "output_type": "stream",
     "text": [
      "<class 'pandas.core.frame.DataFrame'>\n",
      "RangeIndex: 40102 entries, 0 to 40101\n",
      "Data columns (total 24 columns):\n",
      " #   Column                   Non-Null Count  Dtype  \n",
      "---  ------                   --------------  -----  \n",
      " 0   ID                       40102 non-null  int64  \n",
      " 1   Language                 40102 non-null  object \n",
      " 2   Subscription Type        40102 non-null  object \n",
      " 3   Subscription Event Type  40102 non-null  object \n",
      " 4   Purchase Store           40102 non-null  object \n",
      " 5   Purchase Amount          26923 non-null  float64\n",
      " 6   Currency                 26924 non-null  object \n",
      " 7   Subscription Start Date  40102 non-null  object \n",
      " 8   Subscription Expiration  40102 non-null  object \n",
      " 9   Demo User                40102 non-null  object \n",
      " 10  Free Trial User          40102 non-null  object \n",
      " 11  Free Trial Start Date    5833 non-null   object \n",
      " 12  Free Trial Expiration    5833 non-null   object \n",
      " 13  Auto Renew               40101 non-null  object \n",
      " 14  Country                  40102 non-null  object \n",
      " 15  User Type                40102 non-null  object \n",
      " 16  Lead Platform            40102 non-null  object \n",
      " 17  Email Subscriber         40102 non-null  object \n",
      " 18  Push Notifications       40102 non-null  object \n",
      " 19  Send Count               28448 non-null  float64\n",
      " 20  Open Count               28448 non-null  float64\n",
      " 21  Click Count              28448 non-null  float64\n",
      " 22  Unique Open Count        28448 non-null  float64\n",
      " 23  Unique Click Count       28448 non-null  float64\n",
      "dtypes: float64(6), int64(1), object(17)\n",
      "memory usage: 7.3+ MB\n"
     ]
    }
   ],
   "source": [
    "subscriber.info()"
   ]
  },
  {
   "cell_type": "code",
   "execution_count": 4,
   "metadata": {},
   "outputs": [
    {
     "data": {
      "text/html": [
       "<div>\n",
       "<style scoped>\n",
       "    .dataframe tbody tr th:only-of-type {\n",
       "        vertical-align: middle;\n",
       "    }\n",
       "\n",
       "    .dataframe tbody tr th {\n",
       "        vertical-align: top;\n",
       "    }\n",
       "\n",
       "    .dataframe thead th {\n",
       "        text-align: right;\n",
       "    }\n",
       "</style>\n",
       "<table border=\"1\" class=\"dataframe\">\n",
       "  <thead>\n",
       "    <tr style=\"text-align: right;\">\n",
       "      <th></th>\n",
       "      <th>ID</th>\n",
       "      <th>Purchase Amount</th>\n",
       "      <th>Send Count</th>\n",
       "      <th>Open Count</th>\n",
       "      <th>Click Count</th>\n",
       "      <th>Unique Open Count</th>\n",
       "      <th>Unique Click Count</th>\n",
       "    </tr>\n",
       "  </thead>\n",
       "  <tbody>\n",
       "    <tr>\n",
       "      <th>count</th>\n",
       "      <td>40102.000000</td>\n",
       "      <td>2.692300e+04</td>\n",
       "      <td>28448.000000</td>\n",
       "      <td>28448.000000</td>\n",
       "      <td>28448.000000</td>\n",
       "      <td>28448.000000</td>\n",
       "      <td>28448.000000</td>\n",
       "    </tr>\n",
       "    <tr>\n",
       "      <th>mean</th>\n",
       "      <td>19980.310982</td>\n",
       "      <td>3.270582e+08</td>\n",
       "      <td>32.389307</td>\n",
       "      <td>8.233971</td>\n",
       "      <td>2.154246</td>\n",
       "      <td>3.892435</td>\n",
       "      <td>0.362943</td>\n",
       "    </tr>\n",
       "    <tr>\n",
       "      <th>std</th>\n",
       "      <td>11550.985627</td>\n",
       "      <td>1.681253e+10</td>\n",
       "      <td>58.436061</td>\n",
       "      <td>37.385582</td>\n",
       "      <td>29.366507</td>\n",
       "      <td>13.137642</td>\n",
       "      <td>1.132356</td>\n",
       "    </tr>\n",
       "    <tr>\n",
       "      <th>min</th>\n",
       "      <td>1.000000</td>\n",
       "      <td>0.000000e+00</td>\n",
       "      <td>1.000000</td>\n",
       "      <td>0.000000</td>\n",
       "      <td>0.000000</td>\n",
       "      <td>0.000000</td>\n",
       "      <td>0.000000</td>\n",
       "    </tr>\n",
       "    <tr>\n",
       "      <th>25%</th>\n",
       "      <td>9970.250000</td>\n",
       "      <td>0.000000e+00</td>\n",
       "      <td>4.000000</td>\n",
       "      <td>0.000000</td>\n",
       "      <td>0.000000</td>\n",
       "      <td>0.000000</td>\n",
       "      <td>0.000000</td>\n",
       "    </tr>\n",
       "    <tr>\n",
       "      <th>50%</th>\n",
       "      <td>19972.500000</td>\n",
       "      <td>3.881000e+01</td>\n",
       "      <td>10.000000</td>\n",
       "      <td>1.000000</td>\n",
       "      <td>0.000000</td>\n",
       "      <td>1.000000</td>\n",
       "      <td>0.000000</td>\n",
       "    </tr>\n",
       "    <tr>\n",
       "      <th>75%</th>\n",
       "      <td>29983.750000</td>\n",
       "      <td>1.523900e+02</td>\n",
       "      <td>33.000000</td>\n",
       "      <td>5.000000</td>\n",
       "      <td>0.000000</td>\n",
       "      <td>2.000000</td>\n",
       "      <td>0.000000</td>\n",
       "    </tr>\n",
       "    <tr>\n",
       "      <th>max</th>\n",
       "      <td>40000.000000</td>\n",
       "      <td>1.600000e+12</td>\n",
       "      <td>4370.000000</td>\n",
       "      <td>4365.000000</td>\n",
       "      <td>4348.000000</td>\n",
       "      <td>196.000000</td>\n",
       "      <td>44.000000</td>\n",
       "    </tr>\n",
       "  </tbody>\n",
       "</table>\n",
       "</div>"
      ],
      "text/plain": [
       "                 ID  Purchase Amount    Send Count    Open Count  \\\n",
       "count  40102.000000     2.692300e+04  28448.000000  28448.000000   \n",
       "mean   19980.310982     3.270582e+08     32.389307      8.233971   \n",
       "std    11550.985627     1.681253e+10     58.436061     37.385582   \n",
       "min        1.000000     0.000000e+00      1.000000      0.000000   \n",
       "25%     9970.250000     0.000000e+00      4.000000      0.000000   \n",
       "50%    19972.500000     3.881000e+01     10.000000      1.000000   \n",
       "75%    29983.750000     1.523900e+02     33.000000      5.000000   \n",
       "max    40000.000000     1.600000e+12   4370.000000   4365.000000   \n",
       "\n",
       "        Click Count  Unique Open Count  Unique Click Count  \n",
       "count  28448.000000       28448.000000        28448.000000  \n",
       "mean       2.154246           3.892435            0.362943  \n",
       "std       29.366507          13.137642            1.132356  \n",
       "min        0.000000           0.000000            0.000000  \n",
       "25%        0.000000           0.000000            0.000000  \n",
       "50%        0.000000           1.000000            0.000000  \n",
       "75%        0.000000           2.000000            0.000000  \n",
       "max     4348.000000         196.000000           44.000000  "
      ]
     },
     "execution_count": 4,
     "metadata": {},
     "output_type": "execute_result"
    }
   ],
   "source": [
    "subscriber.describe()"
   ]
  },
  {
   "cell_type": "code",
   "execution_count": 5,
   "metadata": {},
   "outputs": [
    {
     "data": {
      "text/plain": [
       "ID                             0\n",
       "Language                       0\n",
       "Subscription Type              0\n",
       "Subscription Event Type        0\n",
       "Purchase Store                 0\n",
       "Purchase Amount            13179\n",
       "Currency                   13178\n",
       "Subscription Start Date        0\n",
       "Subscription Expiration        0\n",
       "Demo User                      0\n",
       "Free Trial User                0\n",
       "Free Trial Start Date      34269\n",
       "Free Trial Expiration      34269\n",
       "Auto Renew                     1\n",
       "Country                        0\n",
       "User Type                      0\n",
       "Lead Platform                  0\n",
       "Email Subscriber               0\n",
       "Push Notifications             0\n",
       "Send Count                 11654\n",
       "Open Count                 11654\n",
       "Click Count                11654\n",
       "Unique Open Count          11654\n",
       "Unique Click Count         11654\n",
       "dtype: int64"
      ]
     },
     "execution_count": 5,
     "metadata": {},
     "output_type": "execute_result"
    }
   ],
   "source": [
    "subscriber.isna().sum()"
   ]
  },
  {
   "cell_type": "markdown",
   "metadata": {},
   "source": [
    "> Thre currency column is not standardized and will greatly affect models if it is not set to one currency, we need to set all values in curency to USD. Currency exchange rates were taken from [here](https://www.x-rates.com/table/?from=USD&amount=1)."
   ]
  },
  {
   "cell_type": "code",
   "execution_count": 6,
   "metadata": {},
   "outputs": [
    {
     "data": {
      "text/plain": [
       "array([nan, 'USD', 'GBP', 'PLN', 'EUR', 'BRL', 'KRW', 'MXN', 'UAH', 'RUB',\n",
       "       'CHF', 'CAD', 'CZK', 'RON', 'AUD', 'THB', 'JPY', 'INR', 'COP',\n",
       "       'BGN', 'ZAR', 'HUF', 'SAR', 'TRY', 'SGD', 'VND', 'RSD', 'ILS',\n",
       "       'SEK', 'PHP', 'NOK', 'EGP', 'QAR', 'IDR', 'PEN', 'AED', 'LBP',\n",
       "       'KZT', 'GHS', 'HKD', 'CLP', 'CRC', 'NZD', 'DKK', 'MYR'],\n",
       "      dtype=object)"
      ]
     },
     "execution_count": 6,
     "metadata": {},
     "output_type": "execute_result"
    }
   ],
   "source": [
    "subscriber['Currency'].unique()"
   ]
  },
  {
   "cell_type": "code",
   "execution_count": 7,
   "metadata": {},
   "outputs": [],
   "source": [
    "usd_convert = {'USD' : 1,\n",
    "               'GBP' : 1.39,\n",
    "               'PLN' : 0.26,\n",
    "               'EUR' : 1.21,\n",
    "               'BRL' : 0.18,\n",
    "               'KRW' : 0.0009,\n",
    "               'MXN' : 0.5,\n",
    "               'UAH' : 0.36,\n",
    "               'RUB' : 0.13,\n",
    "               'CHF' : 1.09,\n",
    "               'CAD' : 0.81,\n",
    "               'CZK' : 0.47,\n",
    "               'RON' : 0.25,\n",
    "               'AUD' : 0.78,\n",
    "               'THB' : 0.32,\n",
    "               'JPY' : 0.0092,\n",
    "               'INR' : 0.013,\n",
    "               'COP' : 0.00028,\n",
    "               'BGN' : 0.62,\n",
    "               'ZAR' : 0.7,\n",
    "               'HUF' : 0.0033,\n",
    "               'SAR' : 0.27,\n",
    "               'TRY' : 0.12,\n",
    "               'SGD' : 0.75,\n",
    "               'VND' : 0.000043,\n",
    "               'RSD' : 0.01,\n",
    "               'ILS' : 0.31,\n",
    "               'SEK' : 0.12,\n",
    "               'PHP' : 0.021,\n",
    "               'NOK' : 0.12,\n",
    "               'EGP' : 0.064,\n",
    "               'QAR' : 0.27,\n",
    "               'IDR' : 0.000069,\n",
    "               'PEN' : 0.26,\n",
    "               'AED' : 0.27,\n",
    "               'LBP' : 0.00066,\n",
    "               'KZT' : 0.0023,\n",
    "               'GHS' : 0.17,\n",
    "               'HKD' : 0.13,\n",
    "               'CLP' : 0.0014,\n",
    "               'CRC' : 0.0016,\n",
    "               'NZD' : 0.072,\n",
    "               'DKK' : 0.16,\n",
    "               'MYR' : 0.24}"
   ]
  },
  {
   "cell_type": "code",
   "execution_count": 8,
   "metadata": {},
   "outputs": [
    {
     "data": {
      "text/html": [
       "<div>\n",
       "<style scoped>\n",
       "    .dataframe tbody tr th:only-of-type {\n",
       "        vertical-align: middle;\n",
       "    }\n",
       "\n",
       "    .dataframe tbody tr th {\n",
       "        vertical-align: top;\n",
       "    }\n",
       "\n",
       "    .dataframe thead th {\n",
       "        text-align: right;\n",
       "    }\n",
       "</style>\n",
       "<table border=\"1\" class=\"dataframe\">\n",
       "  <thead>\n",
       "    <tr style=\"text-align: right;\">\n",
       "      <th></th>\n",
       "      <th>ID</th>\n",
       "      <th>Language</th>\n",
       "      <th>Subscription Type</th>\n",
       "      <th>Subscription Event Type</th>\n",
       "      <th>Purchase Store</th>\n",
       "      <th>Purchase Amount</th>\n",
       "      <th>Currency</th>\n",
       "      <th>Subscription Start Date</th>\n",
       "      <th>Subscription Expiration</th>\n",
       "      <th>Demo User</th>\n",
       "      <th>...</th>\n",
       "      <th>Country</th>\n",
       "      <th>User Type</th>\n",
       "      <th>Lead Platform</th>\n",
       "      <th>Email Subscriber</th>\n",
       "      <th>Push Notifications</th>\n",
       "      <th>Send Count</th>\n",
       "      <th>Open Count</th>\n",
       "      <th>Click Count</th>\n",
       "      <th>Unique Open Count</th>\n",
       "      <th>Unique Click Count</th>\n",
       "    </tr>\n",
       "  </thead>\n",
       "  <tbody>\n",
       "    <tr>\n",
       "      <th>0</th>\n",
       "      <td>1</td>\n",
       "      <td>POR</td>\n",
       "      <td>Limited</td>\n",
       "      <td>INITIAL_PURCHASE</td>\n",
       "      <td>App</td>\n",
       "      <td>NaN</td>\n",
       "      <td>NaN</td>\n",
       "      <td>12/28/2018</td>\n",
       "      <td>6/28/2019</td>\n",
       "      <td>Yes</td>\n",
       "      <td>...</td>\n",
       "      <td>US/Canada</td>\n",
       "      <td>Consumer</td>\n",
       "      <td>App</td>\n",
       "      <td>Yes</td>\n",
       "      <td>Yes</td>\n",
       "      <td>63.0</td>\n",
       "      <td>7.0</td>\n",
       "      <td>0.0</td>\n",
       "      <td>6.0</td>\n",
       "      <td>0.0</td>\n",
       "    </tr>\n",
       "    <tr>\n",
       "      <th>1</th>\n",
       "      <td>2</td>\n",
       "      <td>EBR</td>\n",
       "      <td>Limited</td>\n",
       "      <td>INITIAL_PURCHASE</td>\n",
       "      <td>Web</td>\n",
       "      <td>39.00</td>\n",
       "      <td>USD</td>\n",
       "      <td>11/28/2019</td>\n",
       "      <td>2/28/2020</td>\n",
       "      <td>No</td>\n",
       "      <td>...</td>\n",
       "      <td>Other</td>\n",
       "      <td>Consumer</td>\n",
       "      <td>Web</td>\n",
       "      <td>No</td>\n",
       "      <td>Yes</td>\n",
       "      <td>4.0</td>\n",
       "      <td>3.0</td>\n",
       "      <td>0.0</td>\n",
       "      <td>1.0</td>\n",
       "      <td>0.0</td>\n",
       "    </tr>\n",
       "    <tr>\n",
       "      <th>2</th>\n",
       "      <td>3</td>\n",
       "      <td>ESP</td>\n",
       "      <td>Limited</td>\n",
       "      <td>INITIAL_PURCHASE</td>\n",
       "      <td>Web</td>\n",
       "      <td>0.00</td>\n",
       "      <td>USD</td>\n",
       "      <td>12/31/2018</td>\n",
       "      <td>12/31/2019</td>\n",
       "      <td>No</td>\n",
       "      <td>...</td>\n",
       "      <td>US/Canada</td>\n",
       "      <td>Consumer</td>\n",
       "      <td>Web</td>\n",
       "      <td>Yes</td>\n",
       "      <td>Yes</td>\n",
       "      <td>1.0</td>\n",
       "      <td>0.0</td>\n",
       "      <td>0.0</td>\n",
       "      <td>0.0</td>\n",
       "      <td>0.0</td>\n",
       "    </tr>\n",
       "    <tr>\n",
       "      <th>3</th>\n",
       "      <td>4</td>\n",
       "      <td>KOR</td>\n",
       "      <td>Limited</td>\n",
       "      <td>INITIAL_PURCHASE</td>\n",
       "      <td>App</td>\n",
       "      <td>NaN</td>\n",
       "      <td>NaN</td>\n",
       "      <td>11/7/2019</td>\n",
       "      <td>2/7/2020</td>\n",
       "      <td>Yes</td>\n",
       "      <td>...</td>\n",
       "      <td>US/Canada</td>\n",
       "      <td>Consumer</td>\n",
       "      <td>App</td>\n",
       "      <td>Yes</td>\n",
       "      <td>Yes</td>\n",
       "      <td>14.0</td>\n",
       "      <td>0.0</td>\n",
       "      <td>0.0</td>\n",
       "      <td>0.0</td>\n",
       "      <td>0.0</td>\n",
       "    </tr>\n",
       "    <tr>\n",
       "      <th>4</th>\n",
       "      <td>5</td>\n",
       "      <td>ENG</td>\n",
       "      <td>Limited</td>\n",
       "      <td>INITIAL_PURCHASE</td>\n",
       "      <td>App</td>\n",
       "      <td>NaN</td>\n",
       "      <td>NaN</td>\n",
       "      <td>8/13/2019</td>\n",
       "      <td>11/13/2019</td>\n",
       "      <td>No</td>\n",
       "      <td>...</td>\n",
       "      <td>US/Canada</td>\n",
       "      <td>Consumer</td>\n",
       "      <td>Web</td>\n",
       "      <td>Yes</td>\n",
       "      <td>Yes</td>\n",
       "      <td>80.0</td>\n",
       "      <td>5.0</td>\n",
       "      <td>1.0</td>\n",
       "      <td>5.0</td>\n",
       "      <td>1.0</td>\n",
       "    </tr>\n",
       "    <tr>\n",
       "      <th>5</th>\n",
       "      <td>6</td>\n",
       "      <td>ESP</td>\n",
       "      <td>Limited</td>\n",
       "      <td>INITIAL_PURCHASE</td>\n",
       "      <td>Web</td>\n",
       "      <td>38.34</td>\n",
       "      <td>USD</td>\n",
       "      <td>8/23/2019</td>\n",
       "      <td>11/23/2019</td>\n",
       "      <td>Yes</td>\n",
       "      <td>...</td>\n",
       "      <td>US/Canada</td>\n",
       "      <td>Consumer</td>\n",
       "      <td>App</td>\n",
       "      <td>Yes</td>\n",
       "      <td>Yes</td>\n",
       "      <td>162.0</td>\n",
       "      <td>1.0</td>\n",
       "      <td>0.0</td>\n",
       "      <td>1.0</td>\n",
       "      <td>0.0</td>\n",
       "    </tr>\n",
       "    <tr>\n",
       "      <th>6</th>\n",
       "      <td>7</td>\n",
       "      <td>ESP</td>\n",
       "      <td>Limited</td>\n",
       "      <td>RENEWAL</td>\n",
       "      <td>Web</td>\n",
       "      <td>79.00</td>\n",
       "      <td>USD</td>\n",
       "      <td>7/21/2019</td>\n",
       "      <td>11/11/2019</td>\n",
       "      <td>Yes</td>\n",
       "      <td>...</td>\n",
       "      <td>Other</td>\n",
       "      <td>Consumer</td>\n",
       "      <td>App</td>\n",
       "      <td>Yes</td>\n",
       "      <td>Yes</td>\n",
       "      <td>2.0</td>\n",
       "      <td>0.0</td>\n",
       "      <td>0.0</td>\n",
       "      <td>0.0</td>\n",
       "      <td>0.0</td>\n",
       "    </tr>\n",
       "    <tr>\n",
       "      <th>7</th>\n",
       "      <td>8</td>\n",
       "      <td>DEU</td>\n",
       "      <td>Limited</td>\n",
       "      <td>INITIAL_PURCHASE</td>\n",
       "      <td>Web</td>\n",
       "      <td>38.40</td>\n",
       "      <td>USD</td>\n",
       "      <td>3/7/2020</td>\n",
       "      <td>6/7/2020</td>\n",
       "      <td>Yes</td>\n",
       "      <td>...</td>\n",
       "      <td>US/Canada</td>\n",
       "      <td>Consumer</td>\n",
       "      <td>App</td>\n",
       "      <td>Yes</td>\n",
       "      <td>Yes</td>\n",
       "      <td>25.0</td>\n",
       "      <td>17.0</td>\n",
       "      <td>4.0</td>\n",
       "      <td>7.0</td>\n",
       "      <td>2.0</td>\n",
       "    </tr>\n",
       "    <tr>\n",
       "      <th>8</th>\n",
       "      <td>9</td>\n",
       "      <td>DEU</td>\n",
       "      <td>Limited</td>\n",
       "      <td>INITIAL_PURCHASE</td>\n",
       "      <td>Web</td>\n",
       "      <td>43.16</td>\n",
       "      <td>USD</td>\n",
       "      <td>3/3/2020</td>\n",
       "      <td>6/8/2020</td>\n",
       "      <td>No</td>\n",
       "      <td>...</td>\n",
       "      <td>Europe</td>\n",
       "      <td>Consumer</td>\n",
       "      <td>Web</td>\n",
       "      <td>No</td>\n",
       "      <td>Yes</td>\n",
       "      <td>52.0</td>\n",
       "      <td>11.0</td>\n",
       "      <td>0.0</td>\n",
       "      <td>5.0</td>\n",
       "      <td>0.0</td>\n",
       "    </tr>\n",
       "    <tr>\n",
       "      <th>9</th>\n",
       "      <td>10</td>\n",
       "      <td>ESP</td>\n",
       "      <td>Limited</td>\n",
       "      <td>RENEWAL</td>\n",
       "      <td>App</td>\n",
       "      <td>NaN</td>\n",
       "      <td>NaN</td>\n",
       "      <td>3/21/2020</td>\n",
       "      <td>3/6/2021</td>\n",
       "      <td>No</td>\n",
       "      <td>...</td>\n",
       "      <td>US/Canada</td>\n",
       "      <td>Consumer</td>\n",
       "      <td>App</td>\n",
       "      <td>No</td>\n",
       "      <td>Yes</td>\n",
       "      <td>1.0</td>\n",
       "      <td>0.0</td>\n",
       "      <td>0.0</td>\n",
       "      <td>0.0</td>\n",
       "      <td>0.0</td>\n",
       "    </tr>\n",
       "    <tr>\n",
       "      <th>10</th>\n",
       "      <td>11</td>\n",
       "      <td>FRA</td>\n",
       "      <td>Limited</td>\n",
       "      <td>RENEWAL</td>\n",
       "      <td>App</td>\n",
       "      <td>NaN</td>\n",
       "      <td>NaN</td>\n",
       "      <td>5/16/2019</td>\n",
       "      <td>5/16/2020</td>\n",
       "      <td>Yes</td>\n",
       "      <td>...</td>\n",
       "      <td>Europe</td>\n",
       "      <td>Consumer</td>\n",
       "      <td>App</td>\n",
       "      <td>No</td>\n",
       "      <td>Yes</td>\n",
       "      <td>NaN</td>\n",
       "      <td>NaN</td>\n",
       "      <td>NaN</td>\n",
       "      <td>NaN</td>\n",
       "      <td>NaN</td>\n",
       "    </tr>\n",
       "    <tr>\n",
       "      <th>11</th>\n",
       "      <td>12</td>\n",
       "      <td>ESP</td>\n",
       "      <td>Limited</td>\n",
       "      <td>INITIAL_PURCHASE</td>\n",
       "      <td>Web</td>\n",
       "      <td>35.97</td>\n",
       "      <td>USD</td>\n",
       "      <td>10/17/2019</td>\n",
       "      <td>1/21/2020</td>\n",
       "      <td>No</td>\n",
       "      <td>...</td>\n",
       "      <td>US/Canada</td>\n",
       "      <td>Consumer</td>\n",
       "      <td>Web</td>\n",
       "      <td>Yes</td>\n",
       "      <td>Yes</td>\n",
       "      <td>94.0</td>\n",
       "      <td>0.0</td>\n",
       "      <td>0.0</td>\n",
       "      <td>0.0</td>\n",
       "      <td>0.0</td>\n",
       "    </tr>\n",
       "    <tr>\n",
       "      <th>12</th>\n",
       "      <td>13</td>\n",
       "      <td>GLE</td>\n",
       "      <td>Limited</td>\n",
       "      <td>RENEWAL</td>\n",
       "      <td>Web</td>\n",
       "      <td>15.05</td>\n",
       "      <td>USD</td>\n",
       "      <td>3/17/2019</td>\n",
       "      <td>5/17/2020</td>\n",
       "      <td>No</td>\n",
       "      <td>...</td>\n",
       "      <td>Europe</td>\n",
       "      <td>Consumer</td>\n",
       "      <td>Web</td>\n",
       "      <td>No</td>\n",
       "      <td>Yes</td>\n",
       "      <td>70.0</td>\n",
       "      <td>70.0</td>\n",
       "      <td>0.0</td>\n",
       "      <td>2.0</td>\n",
       "      <td>0.0</td>\n",
       "    </tr>\n",
       "    <tr>\n",
       "      <th>13</th>\n",
       "      <td>14</td>\n",
       "      <td>ALL</td>\n",
       "      <td>Limited</td>\n",
       "      <td>INITIAL_PURCHASE</td>\n",
       "      <td>Web</td>\n",
       "      <td>143.76</td>\n",
       "      <td>USD</td>\n",
       "      <td>3/25/2020</td>\n",
       "      <td>3/25/2022</td>\n",
       "      <td>No</td>\n",
       "      <td>...</td>\n",
       "      <td>US/Canada</td>\n",
       "      <td>Consumer</td>\n",
       "      <td>Web</td>\n",
       "      <td>Yes</td>\n",
       "      <td>Yes</td>\n",
       "      <td>174.0</td>\n",
       "      <td>37.0</td>\n",
       "      <td>6.0</td>\n",
       "      <td>28.0</td>\n",
       "      <td>2.0</td>\n",
       "    </tr>\n",
       "    <tr>\n",
       "      <th>14</th>\n",
       "      <td>15</td>\n",
       "      <td>ESP</td>\n",
       "      <td>Limited</td>\n",
       "      <td>INITIAL_PURCHASE</td>\n",
       "      <td>App</td>\n",
       "      <td>NaN</td>\n",
       "      <td>NaN</td>\n",
       "      <td>9/1/2019</td>\n",
       "      <td>3/1/2020</td>\n",
       "      <td>Yes</td>\n",
       "      <td>...</td>\n",
       "      <td>US/Canada</td>\n",
       "      <td>Consumer</td>\n",
       "      <td>App</td>\n",
       "      <td>Yes</td>\n",
       "      <td>Yes</td>\n",
       "      <td>15.0</td>\n",
       "      <td>0.0</td>\n",
       "      <td>0.0</td>\n",
       "      <td>0.0</td>\n",
       "      <td>0.0</td>\n",
       "    </tr>\n",
       "    <tr>\n",
       "      <th>15</th>\n",
       "      <td>16</td>\n",
       "      <td>FRA</td>\n",
       "      <td>Limited</td>\n",
       "      <td>RENEWAL</td>\n",
       "      <td>App</td>\n",
       "      <td>54597400.00</td>\n",
       "      <td>USD</td>\n",
       "      <td>11/17/2019</td>\n",
       "      <td>5/17/2020</td>\n",
       "      <td>Yes</td>\n",
       "      <td>...</td>\n",
       "      <td>Europe</td>\n",
       "      <td>Consumer</td>\n",
       "      <td>App</td>\n",
       "      <td>Yes</td>\n",
       "      <td>Yes</td>\n",
       "      <td>NaN</td>\n",
       "      <td>NaN</td>\n",
       "      <td>NaN</td>\n",
       "      <td>NaN</td>\n",
       "      <td>NaN</td>\n",
       "    </tr>\n",
       "    <tr>\n",
       "      <th>16</th>\n",
       "      <td>17</td>\n",
       "      <td>ALL</td>\n",
       "      <td>Lifetime</td>\n",
       "      <td>INITIAL_PURCHASE</td>\n",
       "      <td>Web</td>\n",
       "      <td>199.00</td>\n",
       "      <td>USD</td>\n",
       "      <td>3/25/2020</td>\n",
       "      <td>1/1/2099</td>\n",
       "      <td>No</td>\n",
       "      <td>...</td>\n",
       "      <td>US/Canada</td>\n",
       "      <td>Consumer</td>\n",
       "      <td>Web</td>\n",
       "      <td>Yes</td>\n",
       "      <td>Yes</td>\n",
       "      <td>8.0</td>\n",
       "      <td>6.0</td>\n",
       "      <td>3.0</td>\n",
       "      <td>2.0</td>\n",
       "      <td>1.0</td>\n",
       "    </tr>\n",
       "    <tr>\n",
       "      <th>17</th>\n",
       "      <td>18</td>\n",
       "      <td>SVE</td>\n",
       "      <td>Limited</td>\n",
       "      <td>INITIAL_PURCHASE</td>\n",
       "      <td>Web</td>\n",
       "      <td>110.50</td>\n",
       "      <td>USD</td>\n",
       "      <td>5/1/2019</td>\n",
       "      <td>11/15/2020</td>\n",
       "      <td>No</td>\n",
       "      <td>...</td>\n",
       "      <td>Europe</td>\n",
       "      <td>Consumer</td>\n",
       "      <td>Web</td>\n",
       "      <td>Yes</td>\n",
       "      <td>Yes</td>\n",
       "      <td>2.0</td>\n",
       "      <td>1.0</td>\n",
       "      <td>0.0</td>\n",
       "      <td>1.0</td>\n",
       "      <td>0.0</td>\n",
       "    </tr>\n",
       "    <tr>\n",
       "      <th>18</th>\n",
       "      <td>19</td>\n",
       "      <td>ITA</td>\n",
       "      <td>Limited</td>\n",
       "      <td>INITIAL_PURCHASE</td>\n",
       "      <td>App</td>\n",
       "      <td>NaN</td>\n",
       "      <td>NaN</td>\n",
       "      <td>10/18/2019</td>\n",
       "      <td>4/18/2020</td>\n",
       "      <td>Yes</td>\n",
       "      <td>...</td>\n",
       "      <td>US/Canada</td>\n",
       "      <td>Consumer</td>\n",
       "      <td>App</td>\n",
       "      <td>Yes</td>\n",
       "      <td>Yes</td>\n",
       "      <td>2.0</td>\n",
       "      <td>0.0</td>\n",
       "      <td>0.0</td>\n",
       "      <td>0.0</td>\n",
       "      <td>0.0</td>\n",
       "    </tr>\n",
       "    <tr>\n",
       "      <th>19</th>\n",
       "      <td>20</td>\n",
       "      <td>DEU</td>\n",
       "      <td>Limited</td>\n",
       "      <td>INITIAL_PURCHASE</td>\n",
       "      <td>App</td>\n",
       "      <td>83386100.00</td>\n",
       "      <td>USD</td>\n",
       "      <td>12/8/2019</td>\n",
       "      <td>6/8/2020</td>\n",
       "      <td>Yes</td>\n",
       "      <td>...</td>\n",
       "      <td>Europe</td>\n",
       "      <td>Consumer</td>\n",
       "      <td>App</td>\n",
       "      <td>No</td>\n",
       "      <td>Yes</td>\n",
       "      <td>NaN</td>\n",
       "      <td>NaN</td>\n",
       "      <td>NaN</td>\n",
       "      <td>NaN</td>\n",
       "      <td>NaN</td>\n",
       "    </tr>\n",
       "  </tbody>\n",
       "</table>\n",
       "<p>20 rows × 24 columns</p>\n",
       "</div>"
      ],
      "text/plain": [
       "    ID Language Subscription Type Subscription Event Type Purchase Store  \\\n",
       "0    1      POR           Limited        INITIAL_PURCHASE            App   \n",
       "1    2      EBR           Limited        INITIAL_PURCHASE            Web   \n",
       "2    3      ESP           Limited        INITIAL_PURCHASE            Web   \n",
       "3    4      KOR           Limited        INITIAL_PURCHASE            App   \n",
       "4    5      ENG           Limited        INITIAL_PURCHASE            App   \n",
       "5    6      ESP           Limited        INITIAL_PURCHASE            Web   \n",
       "6    7      ESP           Limited                 RENEWAL            Web   \n",
       "7    8      DEU           Limited        INITIAL_PURCHASE            Web   \n",
       "8    9      DEU           Limited        INITIAL_PURCHASE            Web   \n",
       "9   10      ESP           Limited                 RENEWAL            App   \n",
       "10  11      FRA           Limited                 RENEWAL            App   \n",
       "11  12      ESP           Limited        INITIAL_PURCHASE            Web   \n",
       "12  13      GLE           Limited                 RENEWAL            Web   \n",
       "13  14      ALL           Limited        INITIAL_PURCHASE            Web   \n",
       "14  15      ESP           Limited        INITIAL_PURCHASE            App   \n",
       "15  16      FRA           Limited                 RENEWAL            App   \n",
       "16  17      ALL          Lifetime        INITIAL_PURCHASE            Web   \n",
       "17  18      SVE           Limited        INITIAL_PURCHASE            Web   \n",
       "18  19      ITA           Limited        INITIAL_PURCHASE            App   \n",
       "19  20      DEU           Limited        INITIAL_PURCHASE            App   \n",
       "\n",
       "    Purchase Amount Currency Subscription Start Date Subscription Expiration  \\\n",
       "0               NaN      NaN              12/28/2018               6/28/2019   \n",
       "1             39.00      USD              11/28/2019               2/28/2020   \n",
       "2              0.00      USD              12/31/2018              12/31/2019   \n",
       "3               NaN      NaN               11/7/2019                2/7/2020   \n",
       "4               NaN      NaN               8/13/2019              11/13/2019   \n",
       "5             38.34      USD               8/23/2019              11/23/2019   \n",
       "6             79.00      USD               7/21/2019              11/11/2019   \n",
       "7             38.40      USD                3/7/2020                6/7/2020   \n",
       "8             43.16      USD                3/3/2020                6/8/2020   \n",
       "9               NaN      NaN               3/21/2020                3/6/2021   \n",
       "10              NaN      NaN               5/16/2019               5/16/2020   \n",
       "11            35.97      USD              10/17/2019               1/21/2020   \n",
       "12            15.05      USD               3/17/2019               5/17/2020   \n",
       "13           143.76      USD               3/25/2020               3/25/2022   \n",
       "14              NaN      NaN                9/1/2019                3/1/2020   \n",
       "15      54597400.00      USD              11/17/2019               5/17/2020   \n",
       "16           199.00      USD               3/25/2020                1/1/2099   \n",
       "17           110.50      USD                5/1/2019              11/15/2020   \n",
       "18              NaN      NaN              10/18/2019               4/18/2020   \n",
       "19      83386100.00      USD               12/8/2019                6/8/2020   \n",
       "\n",
       "   Demo User  ...    Country User Type Lead Platform Email Subscriber  \\\n",
       "0        Yes  ...  US/Canada  Consumer           App              Yes   \n",
       "1         No  ...      Other  Consumer           Web               No   \n",
       "2         No  ...  US/Canada  Consumer           Web              Yes   \n",
       "3        Yes  ...  US/Canada  Consumer           App              Yes   \n",
       "4         No  ...  US/Canada  Consumer           Web              Yes   \n",
       "5        Yes  ...  US/Canada  Consumer           App              Yes   \n",
       "6        Yes  ...      Other  Consumer           App              Yes   \n",
       "7        Yes  ...  US/Canada  Consumer           App              Yes   \n",
       "8         No  ...     Europe  Consumer           Web               No   \n",
       "9         No  ...  US/Canada  Consumer           App               No   \n",
       "10       Yes  ...     Europe  Consumer           App               No   \n",
       "11        No  ...  US/Canada  Consumer           Web              Yes   \n",
       "12        No  ...     Europe  Consumer           Web               No   \n",
       "13        No  ...  US/Canada  Consumer           Web              Yes   \n",
       "14       Yes  ...  US/Canada  Consumer           App              Yes   \n",
       "15       Yes  ...     Europe  Consumer           App              Yes   \n",
       "16        No  ...  US/Canada  Consumer           Web              Yes   \n",
       "17        No  ...     Europe  Consumer           Web              Yes   \n",
       "18       Yes  ...  US/Canada  Consumer           App              Yes   \n",
       "19       Yes  ...     Europe  Consumer           App               No   \n",
       "\n",
       "   Push Notifications Send Count Open Count Click Count Unique Open Count  \\\n",
       "0                 Yes       63.0        7.0         0.0               6.0   \n",
       "1                 Yes        4.0        3.0         0.0               1.0   \n",
       "2                 Yes        1.0        0.0         0.0               0.0   \n",
       "3                 Yes       14.0        0.0         0.0               0.0   \n",
       "4                 Yes       80.0        5.0         1.0               5.0   \n",
       "5                 Yes      162.0        1.0         0.0               1.0   \n",
       "6                 Yes        2.0        0.0         0.0               0.0   \n",
       "7                 Yes       25.0       17.0         4.0               7.0   \n",
       "8                 Yes       52.0       11.0         0.0               5.0   \n",
       "9                 Yes        1.0        0.0         0.0               0.0   \n",
       "10                Yes        NaN        NaN         NaN               NaN   \n",
       "11                Yes       94.0        0.0         0.0               0.0   \n",
       "12                Yes       70.0       70.0         0.0               2.0   \n",
       "13                Yes      174.0       37.0         6.0              28.0   \n",
       "14                Yes       15.0        0.0         0.0               0.0   \n",
       "15                Yes        NaN        NaN         NaN               NaN   \n",
       "16                Yes        8.0        6.0         3.0               2.0   \n",
       "17                Yes        2.0        1.0         0.0               1.0   \n",
       "18                Yes        2.0        0.0         0.0               0.0   \n",
       "19                Yes        NaN        NaN         NaN               NaN   \n",
       "\n",
       "    Unique Click Count  \n",
       "0                  0.0  \n",
       "1                  0.0  \n",
       "2                  0.0  \n",
       "3                  0.0  \n",
       "4                  1.0  \n",
       "5                  0.0  \n",
       "6                  0.0  \n",
       "7                  2.0  \n",
       "8                  0.0  \n",
       "9                  0.0  \n",
       "10                 NaN  \n",
       "11                 0.0  \n",
       "12                 0.0  \n",
       "13                 2.0  \n",
       "14                 0.0  \n",
       "15                 NaN  \n",
       "16                 1.0  \n",
       "17                 0.0  \n",
       "18                 0.0  \n",
       "19                 NaN  \n",
       "\n",
       "[20 rows x 24 columns]"
      ]
     },
     "execution_count": 8,
     "metadata": {},
     "output_type": "execute_result"
    }
   ],
   "source": [
    "for index in subscriber.index:\n",
    "    if subscriber.at[index, 'Currency'] is np.nan:\n",
    "        continue\n",
    "    elif subscriber.at[index, 'Currency'] != 'USD':\n",
    "        current_val = subscriber.at[index, 'Purchase Amount']\n",
    "        new_val = current_val * usd_convert[subscriber.at[index, 'Currency']]\n",
    "        subscriber.at[index, 'Purchase Amount'] = new_val\n",
    "        subscriber.at[index, 'Currency'] = 'USD'\n",
    "    else:\n",
    "        continue\n",
    "        \n",
    "subscriber['Purchase Amount'] = subscriber['Purchase Amount'].apply(lambda x: round(x, 2))\n",
    "#subscriber.to_csv(\"data/subscriber_clean.csv\")\n",
    "subscriber.head(20)"
   ]
  },
  {
   "cell_type": "markdown",
   "metadata": {},
   "source": [
    ">Purchase amount and currency is standardized to USD, now to take care of outliers"
   ]
  },
  {
   "cell_type": "code",
   "execution_count": 9,
   "metadata": {},
   "outputs": [
    {
     "name": "stderr",
     "output_type": "stream",
     "text": [
      "C:\\Users\\jade5\\anaconda3\\lib\\site-packages\\plotnine\\layer.py:360: PlotnineWarning: stat_boxplot : Removed 13179 rows containing non-finite values.\n",
      "  data = self.stat.compute_layer(data, params, layout)\n"
     ]
    },
    {
     "data": {
      "image/png": "[encoded data removed]",
      "text/plain": [
       "<Figure size 640x480 with 1 Axes>"
      ]
     },
     "metadata": {},
     "output_type": "display_data"
    },
    {
     "data": {
      "text/plain": [
       "<ggplot: (-9223371913791446032)>"
      ]
     },
     "execution_count": 9,
     "metadata": {},
     "output_type": "execute_result"
    }
   ],
   "source": [
    "ggplot(subscriber) + geom_boxplot(aes(x = 'Subscription Type' , y = 'Purchase Amount'))"
   ]
  },
  {
   "cell_type": "markdown",
   "metadata": {},
   "source": [
    "> Very unrealistic purchase amounts appear for mostly Limited subscriptions, dropping those with a purchase amount of above 300 as the max purchase price of a Rosetta Stone service is 299"
   ]
  },
  {
   "cell_type": "code",
   "execution_count": 10,
   "metadata": {},
   "outputs": [
    {
     "data": {
      "text/html": [
       "<div>\n",
       "<style scoped>\n",
       "    .dataframe tbody tr th:only-of-type {\n",
       "        vertical-align: middle;\n",
       "    }\n",
       "\n",
       "    .dataframe tbody tr th {\n",
       "        vertical-align: top;\n",
       "    }\n",
       "\n",
       "    .dataframe thead th {\n",
       "        text-align: right;\n",
       "    }\n",
       "</style>\n",
       "<table border=\"1\" class=\"dataframe\">\n",
       "  <thead>\n",
       "    <tr style=\"text-align: right;\">\n",
       "      <th></th>\n",
       "      <th>ID</th>\n",
       "      <th>Purchase Amount</th>\n",
       "      <th>Send Count</th>\n",
       "      <th>Open Count</th>\n",
       "      <th>Click Count</th>\n",
       "      <th>Unique Open Count</th>\n",
       "      <th>Unique Click Count</th>\n",
       "    </tr>\n",
       "  </thead>\n",
       "  <tbody>\n",
       "    <tr>\n",
       "      <th>count</th>\n",
       "      <td>38438.000000</td>\n",
       "      <td>25259.000000</td>\n",
       "      <td>27396.000000</td>\n",
       "      <td>27396.000000</td>\n",
       "      <td>27396.000000</td>\n",
       "      <td>27396.000000</td>\n",
       "      <td>27396.000000</td>\n",
       "    </tr>\n",
       "    <tr>\n",
       "      <th>mean</th>\n",
       "      <td>20176.260393</td>\n",
       "      <td>69.698572</td>\n",
       "      <td>33.213973</td>\n",
       "      <td>8.439334</td>\n",
       "      <td>2.197511</td>\n",
       "      <td>4.000913</td>\n",
       "      <td>0.369580</td>\n",
       "    </tr>\n",
       "    <tr>\n",
       "      <th>std</th>\n",
       "      <td>11551.334791</td>\n",
       "      <td>75.436699</td>\n",
       "      <td>59.239086</td>\n",
       "      <td>37.989768</td>\n",
       "      <td>29.905087</td>\n",
       "      <td>13.327759</td>\n",
       "      <td>1.142726</td>\n",
       "    </tr>\n",
       "    <tr>\n",
       "      <th>min</th>\n",
       "      <td>1.000000</td>\n",
       "      <td>0.000000</td>\n",
       "      <td>1.000000</td>\n",
       "      <td>0.000000</td>\n",
       "      <td>0.000000</td>\n",
       "      <td>0.000000</td>\n",
       "      <td>0.000000</td>\n",
       "    </tr>\n",
       "    <tr>\n",
       "      <th>25%</th>\n",
       "      <td>10203.250000</td>\n",
       "      <td>0.000000</td>\n",
       "      <td>4.000000</td>\n",
       "      <td>0.000000</td>\n",
       "      <td>0.000000</td>\n",
       "      <td>0.000000</td>\n",
       "      <td>0.000000</td>\n",
       "    </tr>\n",
       "    <tr>\n",
       "      <th>50%</th>\n",
       "      <td>20261.500000</td>\n",
       "      <td>36.940000</td>\n",
       "      <td>10.000000</td>\n",
       "      <td>1.000000</td>\n",
       "      <td>0.000000</td>\n",
       "      <td>1.000000</td>\n",
       "      <td>0.000000</td>\n",
       "    </tr>\n",
       "    <tr>\n",
       "      <th>75%</th>\n",
       "      <td>30209.750000</td>\n",
       "      <td>119.000000</td>\n",
       "      <td>35.000000</td>\n",
       "      <td>6.000000</td>\n",
       "      <td>0.000000</td>\n",
       "      <td>2.000000</td>\n",
       "      <td>0.000000</td>\n",
       "    </tr>\n",
       "    <tr>\n",
       "      <th>max</th>\n",
       "      <td>40000.000000</td>\n",
       "      <td>299.000000</td>\n",
       "      <td>4370.000000</td>\n",
       "      <td>4365.000000</td>\n",
       "      <td>4348.000000</td>\n",
       "      <td>196.000000</td>\n",
       "      <td>44.000000</td>\n",
       "    </tr>\n",
       "  </tbody>\n",
       "</table>\n",
       "</div>"
      ],
      "text/plain": [
       "                 ID  Purchase Amount    Send Count    Open Count  \\\n",
       "count  38438.000000     25259.000000  27396.000000  27396.000000   \n",
       "mean   20176.260393        69.698572     33.213973      8.439334   \n",
       "std    11551.334791        75.436699     59.239086     37.989768   \n",
       "min        1.000000         0.000000      1.000000      0.000000   \n",
       "25%    10203.250000         0.000000      4.000000      0.000000   \n",
       "50%    20261.500000        36.940000     10.000000      1.000000   \n",
       "75%    30209.750000       119.000000     35.000000      6.000000   \n",
       "max    40000.000000       299.000000   4370.000000   4365.000000   \n",
       "\n",
       "        Click Count  Unique Open Count  Unique Click Count  \n",
       "count  27396.000000       27396.000000        27396.000000  \n",
       "mean       2.197511           4.000913            0.369580  \n",
       "std       29.905087          13.327759            1.142726  \n",
       "min        0.000000           0.000000            0.000000  \n",
       "25%        0.000000           0.000000            0.000000  \n",
       "50%        0.000000           1.000000            0.000000  \n",
       "75%        0.000000           2.000000            0.000000  \n",
       "max     4348.000000         196.000000           44.000000  "
      ]
     },
     "execution_count": 10,
     "metadata": {},
     "output_type": "execute_result"
    }
   ],
   "source": [
    "subscriber.drop(subscriber.loc[subscriber['Purchase Amount'] > 300].index, inplace=True)\n",
    "subscriber.describe()"
   ]
  },
  {
   "cell_type": "code",
   "execution_count": 11,
   "metadata": {},
   "outputs": [
    {
     "name": "stderr",
     "output_type": "stream",
     "text": [
      "C:\\Users\\jade5\\anaconda3\\lib\\site-packages\\plotnine\\layer.py:360: PlotnineWarning: stat_boxplot : Removed 13179 rows containing non-finite values.\n",
      "  data = self.stat.compute_layer(data, params, layout)\n"
     ]
    },
    {
     "data": {
      "image/png": "[encoded data removed]",
      "text/plain": [
       "<Figure size 640x480 with 1 Axes>"
      ]
     },
     "metadata": {},
     "output_type": "display_data"
    },
    {
     "data": {
      "text/plain": [
       "<ggplot: (-9223371913790891584)>"
      ]
     },
     "execution_count": 11,
     "metadata": {},
     "output_type": "execute_result"
    }
   ],
   "source": [
    "ggplot(subscriber) + geom_boxplot(aes(x = 'Subscription Type' , y = 'Purchase Amount'))"
   ]
  },
  {
   "cell_type": "markdown",
   "metadata": {},
   "source": [
    "> The distribution is looking much better, still unsure why some purchase amounts are so high given that the most expensive Consumer product on Rosetta Stone is 299"
   ]
  },
  {
   "cell_type": "code",
   "execution_count": 12,
   "metadata": {},
   "outputs": [
    {
     "data": {
      "image/png": "[encoded data removed]",
      "text/plain": [
       "<Figure size 640x480 with 1 Axes>"
      ]
     },
     "metadata": {},
     "output_type": "display_data"
    },
    {
     "data": {
      "text/plain": [
       "<ggplot: (-9223371913791421876)>"
      ]
     },
     "execution_count": 12,
     "metadata": {},
     "output_type": "execute_result"
    }
   ],
   "source": [
    "# Comparison of language chosen\n",
    "ggplot(subscriber, aes(x = 'Language', fill = 'Language')) +  geom_bar() + ylab('Count') + xlab('Language Chosen') +  ggtitle('Counts of Languages Chosen') + theme(axis_text_x=element_text(rotation=90, hjust=1))"
   ]
  },
  {
   "cell_type": "code",
   "execution_count": 13,
   "metadata": {},
   "outputs": [
    {
     "data": {
      "image/png": "[encoded data removed]",
      "text/plain": [
       "<Figure size 640x480 with 1 Axes>"
      ]
     },
     "metadata": {},
     "output_type": "display_data"
    },
    {
     "data": {
      "text/plain": [
       "<ggplot: (-9223371913798470348)>"
      ]
     },
     "execution_count": 13,
     "metadata": {},
     "output_type": "execute_result"
    }
   ],
   "source": [
    "# Type of subscriptions\n",
    "ggplot(subscriber, aes(x = 'Subscription Type', fill = 'Subscription Event Type')) + geom_bar() + ylab('Count') + xlab('Subscription Type') + ggtitle('Counts of Subscription Types')"
   ]
  },
  {
   "cell_type": "markdown",
   "metadata": {},
   "source": [
    "> There are very few lifetime subscription purchase compared to limited subscriptions, additionally many subscribers do not renew their subscription (high churn)"
   ]
  },
  {
   "cell_type": "code",
   "execution_count": 14,
   "metadata": {},
   "outputs": [
    {
     "data": {
      "image/png": "[encoded data removed]",
      "text/plain": [
       "<Figure size 640x480 with 1 Axes>"
      ]
     },
     "metadata": {},
     "output_type": "display_data"
    },
    {
     "data": {
      "text/plain": [
       "<ggplot: (-9223371913790108096)>"
      ]
     },
     "execution_count": 14,
     "metadata": {},
     "output_type": "execute_result"
    }
   ],
   "source": [
    "# Purchase platform\n",
    "ggplot(subscriber, aes(x = 'Purchase Store', fill = 'Purchase Store')) + geom_bar() + ylab('Count') + xlab('Purchase Platform')"
   ]
  },
  {
   "cell_type": "code",
   "execution_count": 15,
   "metadata": {},
   "outputs": [
    {
     "data": {
      "image/png": "[encoded data removed]",
      "text/plain": [
       "<Figure size 640x480 with 1 Axes>"
      ]
     },
     "metadata": {},
     "output_type": "display_data"
    },
    {
     "data": {
      "text/plain": [
       "<ggplot: (-9223371913790193496)>"
      ]
     },
     "execution_count": 15,
     "metadata": {},
     "output_type": "execute_result"
    }
   ],
   "source": [
    "# Auto Renew\n",
    "# Type of subscriptions\n",
    "ggplot(subscriber, aes(x = 'Auto Renew', fill = 'Subscription Type')) + geom_bar() + ylab('Count') + xlab('Auto Renew')"
   ]
  },
  {
   "cell_type": "markdown",
   "metadata": {},
   "source": [
    "> Lifetime subscriptions will not have auto renew on, but more subscribers with a limited subscripsion turn auto renew off"
   ]
  },
  {
   "cell_type": "code",
   "execution_count": 16,
   "metadata": {},
   "outputs": [
    {
     "name": "stderr",
     "output_type": "stream",
     "text": [
      "C:\\Users\\jade5\\anaconda3\\lib\\site-packages\\plotnine\\stats\\stat_bin.py:93: PlotnineWarning: 'stat_bin()' using 'bins = 26'. Pick better value with 'binwidth'.\n",
      "  warn(msg.format(params['bins']), PlotnineWarning)\n"
     ]
    },
    {
     "data": {
      "image/png": "[encoded data removed]",
      "text/plain": [
       "<Figure size 640x480 with 1 Axes>"
      ]
     },
     "metadata": {},
     "output_type": "display_data"
    },
    {
     "data": {
      "text/plain": [
       "<ggplot: (-9223371913790136100)>"
      ]
     },
     "execution_count": 16,
     "metadata": {},
     "output_type": "execute_result"
    }
   ],
   "source": [
    "purchase_amount = subscriber\n",
    "purchase_amount.dropna(inplace = True)\n",
    "ggplot(purchase_amount, aes(x = 'Purchase Amount')) + geom_histogram()"
   ]
  },
  {
   "cell_type": "markdown",
   "metadata": {},
   "source": [
    "### App Activity"
   ]
  },
  {
   "cell_type": "code",
   "execution_count": 17,
   "metadata": {},
   "outputs": [
    {
     "data": {
      "text/html": [
       "<div>\n",
       "<style scoped>\n",
       "    .dataframe tbody tr th:only-of-type {\n",
       "        vertical-align: middle;\n",
       "    }\n",
       "\n",
       "    .dataframe tbody tr th {\n",
       "        vertical-align: top;\n",
       "    }\n",
       "\n",
       "    .dataframe thead th {\n",
       "        text-align: right;\n",
       "    }\n",
       "</style>\n",
       "<table border=\"1\" class=\"dataframe\">\n",
       "  <thead>\n",
       "    <tr style=\"text-align: right;\">\n",
       "      <th></th>\n",
       "      <th>ID</th>\n",
       "      <th>App Session Platform</th>\n",
       "      <th>App Activity Type</th>\n",
       "      <th>App Session Date</th>\n",
       "    </tr>\n",
       "  </thead>\n",
       "  <tbody>\n",
       "    <tr>\n",
       "      <th>0</th>\n",
       "      <td>1</td>\n",
       "      <td>ios</td>\n",
       "      <td>App Launch</td>\n",
       "      <td>3/20/2019</td>\n",
       "    </tr>\n",
       "    <tr>\n",
       "      <th>1</th>\n",
       "      <td>2</td>\n",
       "      <td>android</td>\n",
       "      <td>App Launch</td>\n",
       "      <td>12/3/2019</td>\n",
       "    </tr>\n",
       "    <tr>\n",
       "      <th>2</th>\n",
       "      <td>3</td>\n",
       "      <td>ios</td>\n",
       "      <td>App Launch</td>\n",
       "      <td>5/2/2019</td>\n",
       "    </tr>\n",
       "    <tr>\n",
       "      <th>3</th>\n",
       "      <td>4</td>\n",
       "      <td>ios</td>\n",
       "      <td>App Launch</td>\n",
       "      <td>2/6/2020</td>\n",
       "    </tr>\n",
       "    <tr>\n",
       "      <th>4</th>\n",
       "      <td>5</td>\n",
       "      <td>ios</td>\n",
       "      <td>Start</td>\n",
       "      <td>9/14/2019</td>\n",
       "    </tr>\n",
       "  </tbody>\n",
       "</table>\n",
       "</div>"
      ],
      "text/plain": [
       "   ID App Session Platform App Activity Type App Session Date\n",
       "0   1                  ios        App Launch        3/20/2019\n",
       "1   2              android        App Launch        12/3/2019\n",
       "2   3                  ios        App Launch         5/2/2019\n",
       "3   4                  ios        App Launch         2/6/2020\n",
       "4   5                  ios             Start        9/14/2019"
      ]
     },
     "execution_count": 17,
     "metadata": {},
     "output_type": "execute_result"
    }
   ],
   "source": [
    "app_act = pd.read_csv(\"data/appactivity.csv\")\n",
    "app_act.head()"
   ]
  },
  {
   "cell_type": "code",
   "execution_count": 18,
   "metadata": {},
   "outputs": [
    {
     "name": "stdout",
     "output_type": "stream",
     "text": [
      "<class 'pandas.core.frame.DataFrame'>\n",
      "RangeIndex: 809478 entries, 0 to 809477\n",
      "Data columns (total 4 columns):\n",
      " #   Column                Non-Null Count   Dtype \n",
      "---  ------                --------------   ----- \n",
      " 0   ID                    809478 non-null  int64 \n",
      " 1   App Session Platform  765300 non-null  object\n",
      " 2   App Activity Type     795058 non-null  object\n",
      " 3   App Session Date      795058 non-null  object\n",
      "dtypes: int64(1), object(3)\n",
      "memory usage: 24.7+ MB\n"
     ]
    }
   ],
   "source": [
    "app_act.info()"
   ]
  },
  {
   "cell_type": "code",
   "execution_count": 19,
   "metadata": {},
   "outputs": [
    {
     "data": {
      "text/plain": [
       "ID                          0\n",
       "App Session Platform    44178\n",
       "App Activity Type       14420\n",
       "App Session Date        14420\n",
       "dtype: int64"
      ]
     },
     "execution_count": 19,
     "metadata": {},
     "output_type": "execute_result"
    }
   ],
   "source": [
    "app_act.isna().sum()"
   ]
  },
  {
   "cell_type": "markdown",
   "metadata": {},
   "source": [
    "> Null values make up less than 1% of the data so it would be best to just drop these"
   ]
  },
  {
   "cell_type": "code",
   "execution_count": 20,
   "metadata": {},
   "outputs": [
    {
     "name": "stdout",
     "output_type": "stream",
     "text": [
      "<class 'pandas.core.frame.DataFrame'>\n",
      "Int64Index: 765300 entries, 0 to 809477\n",
      "Data columns (total 4 columns):\n",
      " #   Column                Non-Null Count   Dtype \n",
      "---  ------                --------------   ----- \n",
      " 0   ID                    765300 non-null  int64 \n",
      " 1   App Session Platform  765300 non-null  object\n",
      " 2   App Activity Type     765300 non-null  object\n",
      " 3   App Session Date      765300 non-null  object\n",
      "dtypes: int64(1), object(3)\n",
      "memory usage: 29.2+ MB\n"
     ]
    }
   ],
   "source": [
    "app_act.dropna(inplace = True)\n",
    "app_act.info()"
   ]
  },
  {
   "cell_type": "code",
   "execution_count": 21,
   "metadata": {},
   "outputs": [
    {
     "data": {
      "image/png": "[encoded data removed]",
      "text/plain": [
       "<Figure size 640x480 with 1 Axes>"
      ]
     },
     "metadata": {},
     "output_type": "display_data"
    },
    {
     "data": {
      "text/plain": [
       "<ggplot: (-9223371913790860240)>"
      ]
     },
     "execution_count": 21,
     "metadata": {},
     "output_type": "execute_result"
    }
   ],
   "source": [
    "ggplot(app_act, aes(x = 'App Session Platform', fill = 'App Session Platform')) + geom_bar()"
   ]
  },
  {
   "cell_type": "markdown",
   "metadata": {},
   "source": [
    "> A majority of subscribers are present on Apple platforms"
   ]
  },
  {
   "cell_type": "code",
   "execution_count": 22,
   "metadata": {},
   "outputs": [
    {
     "data": {
      "image/png": "[encoded data removed]",
      "text/plain": [
       "<Figure size 640x480 with 1 Axes>"
      ]
     },
     "metadata": {},
     "output_type": "display_data"
    },
    {
     "data": {
      "text/plain": [
       "<ggplot: (-9223371913790879004)>"
      ]
     },
     "execution_count": 22,
     "metadata": {},
     "output_type": "execute_result"
    }
   ],
   "source": [
    "ggplot(app_act, aes(x = 'App Activity Type', fill = 'App Activity Type')) + geom_bar()"
   ]
  },
  {
   "cell_type": "markdown",
   "metadata": {},
   "source": [
    "### Subscriber Segments\n",
    "> [source](https://inseaddataanalytics.github.io/INSEADAnalytics/CourseSessions/Sessions45/ClusterAnalysisReading.html)"
   ]
  },
  {
   "cell_type": "code",
   "execution_count": 23,
   "metadata": {},
   "outputs": [
    {
     "data": {
      "text/html": [
       "<div>\n",
       "<style scoped>\n",
       "    .dataframe tbody tr th:only-of-type {\n",
       "        vertical-align: middle;\n",
       "    }\n",
       "\n",
       "    .dataframe tbody tr th {\n",
       "        vertical-align: top;\n",
       "    }\n",
       "\n",
       "    .dataframe thead th {\n",
       "        text-align: right;\n",
       "    }\n",
       "</style>\n",
       "<table border=\"1\" class=\"dataframe\">\n",
       "  <thead>\n",
       "    <tr style=\"text-align: right;\">\n",
       "      <th></th>\n",
       "      <th>ID</th>\n",
       "      <th>Language</th>\n",
       "      <th>Subscription Type</th>\n",
       "      <th>Subscription Event Type</th>\n",
       "      <th>Purchase Store</th>\n",
       "      <th>Purchase Amount</th>\n",
       "      <th>Currency</th>\n",
       "      <th>Subscription Start Date</th>\n",
       "      <th>Subscription Expiration</th>\n",
       "      <th>Demo User</th>\n",
       "      <th>...</th>\n",
       "      <th>Country</th>\n",
       "      <th>User Type</th>\n",
       "      <th>Lead Platform</th>\n",
       "      <th>Email Subscriber</th>\n",
       "      <th>Push Notifications</th>\n",
       "      <th>Send Count</th>\n",
       "      <th>Open Count</th>\n",
       "      <th>Click Count</th>\n",
       "      <th>Unique Open Count</th>\n",
       "      <th>Unique Click Count</th>\n",
       "    </tr>\n",
       "  </thead>\n",
       "  <tbody>\n",
       "    <tr>\n",
       "      <th>8</th>\n",
       "      <td>9</td>\n",
       "      <td>DEU</td>\n",
       "      <td>Limited</td>\n",
       "      <td>INITIAL_PURCHASE</td>\n",
       "      <td>Web</td>\n",
       "      <td>43.16</td>\n",
       "      <td>USD</td>\n",
       "      <td>3/3/2020</td>\n",
       "      <td>6/8/2020</td>\n",
       "      <td>No</td>\n",
       "      <td>...</td>\n",
       "      <td>Europe</td>\n",
       "      <td>Consumer</td>\n",
       "      <td>Web</td>\n",
       "      <td>No</td>\n",
       "      <td>Yes</td>\n",
       "      <td>52.0</td>\n",
       "      <td>11.0</td>\n",
       "      <td>0.0</td>\n",
       "      <td>5.0</td>\n",
       "      <td>0.0</td>\n",
       "    </tr>\n",
       "    <tr>\n",
       "      <th>11</th>\n",
       "      <td>12</td>\n",
       "      <td>ESP</td>\n",
       "      <td>Limited</td>\n",
       "      <td>INITIAL_PURCHASE</td>\n",
       "      <td>Web</td>\n",
       "      <td>35.97</td>\n",
       "      <td>USD</td>\n",
       "      <td>10/17/2019</td>\n",
       "      <td>1/21/2020</td>\n",
       "      <td>No</td>\n",
       "      <td>...</td>\n",
       "      <td>US/Canada</td>\n",
       "      <td>Consumer</td>\n",
       "      <td>Web</td>\n",
       "      <td>Yes</td>\n",
       "      <td>Yes</td>\n",
       "      <td>94.0</td>\n",
       "      <td>0.0</td>\n",
       "      <td>0.0</td>\n",
       "      <td>0.0</td>\n",
       "      <td>0.0</td>\n",
       "    </tr>\n",
       "    <tr>\n",
       "      <th>16</th>\n",
       "      <td>17</td>\n",
       "      <td>ALL</td>\n",
       "      <td>Lifetime</td>\n",
       "      <td>INITIAL_PURCHASE</td>\n",
       "      <td>Web</td>\n",
       "      <td>199.00</td>\n",
       "      <td>USD</td>\n",
       "      <td>3/25/2020</td>\n",
       "      <td>1/1/2099</td>\n",
       "      <td>No</td>\n",
       "      <td>...</td>\n",
       "      <td>US/Canada</td>\n",
       "      <td>Consumer</td>\n",
       "      <td>Web</td>\n",
       "      <td>Yes</td>\n",
       "      <td>Yes</td>\n",
       "      <td>8.0</td>\n",
       "      <td>6.0</td>\n",
       "      <td>3.0</td>\n",
       "      <td>2.0</td>\n",
       "      <td>1.0</td>\n",
       "    </tr>\n",
       "    <tr>\n",
       "      <th>41</th>\n",
       "      <td>42</td>\n",
       "      <td>ESP</td>\n",
       "      <td>Limited</td>\n",
       "      <td>INITIAL_PURCHASE</td>\n",
       "      <td>Web</td>\n",
       "      <td>38.89</td>\n",
       "      <td>USD</td>\n",
       "      <td>1/27/2020</td>\n",
       "      <td>4/30/2020</td>\n",
       "      <td>No</td>\n",
       "      <td>...</td>\n",
       "      <td>US/Canada</td>\n",
       "      <td>Consumer</td>\n",
       "      <td>Web</td>\n",
       "      <td>Yes</td>\n",
       "      <td>Yes</td>\n",
       "      <td>19.0</td>\n",
       "      <td>11.0</td>\n",
       "      <td>4.0</td>\n",
       "      <td>7.0</td>\n",
       "      <td>2.0</td>\n",
       "    </tr>\n",
       "    <tr>\n",
       "      <th>42</th>\n",
       "      <td>43</td>\n",
       "      <td>RUS</td>\n",
       "      <td>Limited</td>\n",
       "      <td>INITIAL_PURCHASE</td>\n",
       "      <td>Web</td>\n",
       "      <td>39.00</td>\n",
       "      <td>USD</td>\n",
       "      <td>8/22/2019</td>\n",
       "      <td>11/25/2019</td>\n",
       "      <td>No</td>\n",
       "      <td>...</td>\n",
       "      <td>Europe</td>\n",
       "      <td>Consumer</td>\n",
       "      <td>Web</td>\n",
       "      <td>No</td>\n",
       "      <td>Yes</td>\n",
       "      <td>79.0</td>\n",
       "      <td>56.0</td>\n",
       "      <td>1.0</td>\n",
       "      <td>38.0</td>\n",
       "      <td>1.0</td>\n",
       "    </tr>\n",
       "  </tbody>\n",
       "</table>\n",
       "<p>5 rows × 24 columns</p>\n",
       "</div>"
      ],
      "text/plain": [
       "    ID Language Subscription Type Subscription Event Type Purchase Store  \\\n",
       "8    9      DEU           Limited        INITIAL_PURCHASE            Web   \n",
       "11  12      ESP           Limited        INITIAL_PURCHASE            Web   \n",
       "16  17      ALL          Lifetime        INITIAL_PURCHASE            Web   \n",
       "41  42      ESP           Limited        INITIAL_PURCHASE            Web   \n",
       "42  43      RUS           Limited        INITIAL_PURCHASE            Web   \n",
       "\n",
       "    Purchase Amount Currency Subscription Start Date Subscription Expiration  \\\n",
       "8             43.16      USD                3/3/2020                6/8/2020   \n",
       "11            35.97      USD              10/17/2019               1/21/2020   \n",
       "16           199.00      USD               3/25/2020                1/1/2099   \n",
       "41            38.89      USD               1/27/2020               4/30/2020   \n",
       "42            39.00      USD               8/22/2019              11/25/2019   \n",
       "\n",
       "   Demo User  ...    Country User Type Lead Platform Email Subscriber  \\\n",
       "8         No  ...     Europe  Consumer           Web               No   \n",
       "11        No  ...  US/Canada  Consumer           Web              Yes   \n",
       "16        No  ...  US/Canada  Consumer           Web              Yes   \n",
       "41        No  ...  US/Canada  Consumer           Web              Yes   \n",
       "42        No  ...     Europe  Consumer           Web               No   \n",
       "\n",
       "   Push Notifications Send Count Open Count Click Count Unique Open Count  \\\n",
       "8                 Yes       52.0       11.0         0.0               5.0   \n",
       "11                Yes       94.0        0.0         0.0               0.0   \n",
       "16                Yes        8.0        6.0         3.0               2.0   \n",
       "41                Yes       19.0       11.0         4.0               7.0   \n",
       "42                Yes       79.0       56.0         1.0              38.0   \n",
       "\n",
       "    Unique Click Count  \n",
       "8                  0.0  \n",
       "11                 0.0  \n",
       "16                 1.0  \n",
       "41                 2.0  \n",
       "42                 1.0  \n",
       "\n",
       "[5 rows x 24 columns]"
      ]
     },
     "execution_count": 23,
     "metadata": {},
     "output_type": "execute_result"
    }
   ],
   "source": [
    "subscriber.head()"
   ]
  },
  {
   "cell_type": "code",
   "execution_count": 28,
   "metadata": {},
   "outputs": [],
   "source": [
    "subscriber[[\"Subscription Start Date\", \"Subscription Expiration\"]] = subscriber[[\"Subscription Start Date\", \"Subscription Expiration\"]].apply(pd.to_datetime)\n",
    "\n",
    "subscriber[\"InvoiceDate\"] = subscriber[\"Subscription Start Date\"].dt.date\n",
    "recent_date = max(subscriber.InvoiceDate) + datetime.timedelta(days = 1)\n",
    "customers = subscriber.groupby(['ID']).agg({\n",
    "    'InvoiceDate' : lambda x: (recent_date - x.max()).days,\n",
    "    'Subscription Event Type' : 'count',\n",
    "    'Purchase Amount' : 'sum'})\n",
    "customers.rename(columns = {'InvoiceDate' : 'Recency',\n",
    "                            'Subscription Event Type' : 'Frequency',\n",
    "                            'Purchase Amount' : 'Monetary Value'}, inplace = True)"
   ]
  },
  {
   "cell_type": "code",
   "execution_count": 29,
   "metadata": {},
   "outputs": [
    {
     "data": {
      "text/html": [
       "<div>\n",
       "<style scoped>\n",
       "    .dataframe tbody tr th:only-of-type {\n",
       "        vertical-align: middle;\n",
       "    }\n",
       "\n",
       "    .dataframe tbody tr th {\n",
       "        vertical-align: top;\n",
       "    }\n",
       "\n",
       "    .dataframe thead th {\n",
       "        text-align: right;\n",
       "    }\n",
       "</style>\n",
       "<table border=\"1\" class=\"dataframe\">\n",
       "  <thead>\n",
       "    <tr style=\"text-align: right;\">\n",
       "      <th></th>\n",
       "      <th>Recency</th>\n",
       "      <th>Frequency</th>\n",
       "      <th>Monetary Value</th>\n",
       "    </tr>\n",
       "    <tr>\n",
       "      <th>ID</th>\n",
       "      <th></th>\n",
       "      <th></th>\n",
       "      <th></th>\n",
       "    </tr>\n",
       "  </thead>\n",
       "  <tbody>\n",
       "    <tr>\n",
       "      <th>9</th>\n",
       "      <td>29</td>\n",
       "      <td>1</td>\n",
       "      <td>43.16</td>\n",
       "    </tr>\n",
       "    <tr>\n",
       "      <th>12</th>\n",
       "      <td>167</td>\n",
       "      <td>1</td>\n",
       "      <td>35.97</td>\n",
       "    </tr>\n",
       "    <tr>\n",
       "      <th>17</th>\n",
       "      <td>7</td>\n",
       "      <td>1</td>\n",
       "      <td>199.00</td>\n",
       "    </tr>\n",
       "    <tr>\n",
       "      <th>42</th>\n",
       "      <td>65</td>\n",
       "      <td>1</td>\n",
       "      <td>38.89</td>\n",
       "    </tr>\n",
       "    <tr>\n",
       "      <th>43</th>\n",
       "      <td>223</td>\n",
       "      <td>1</td>\n",
       "      <td>39.00</td>\n",
       "    </tr>\n",
       "  </tbody>\n",
       "</table>\n",
       "</div>"
      ],
      "text/plain": [
       "    Recency  Frequency  Monetary Value\n",
       "ID                                    \n",
       "9        29          1           43.16\n",
       "12      167          1           35.97\n",
       "17        7          1          199.00\n",
       "42       65          1           38.89\n",
       "43      223          1           39.00"
      ]
     },
     "execution_count": 29,
     "metadata": {},
     "output_type": "execute_result"
    }
   ],
   "source": [
    "customers.head()"
   ]
  },
  {
   "cell_type": "code",
   "execution_count": 39,
   "metadata": {},
   "outputs": [],
   "source": [
    "customers_fixed = pd.DataFrame()\n",
    "customers_fixed[\"Recency\"] = stats.boxcox(customers['Recency'])[0]\n",
    "customers_fixed[\"Frequency\"] = pd.Series(np.log(customers['Frequency'])).values\n",
    "customers_fixed[\"MonetaryValue\"] = pd.Series(np.cbrt(customers['Monetary Value'])).values"
   ]
  },
  {
   "cell_type": "code",
   "execution_count": 40,
   "metadata": {},
   "outputs": [
    {
     "name": "stderr",
     "output_type": "stream",
     "text": [
      "C:\\Users\\jade5\\anaconda3\\lib\\site-packages\\plotnine\\stats\\stat_bin.py:93: PlotnineWarning: 'stat_bin()' using 'bins = 14'. Pick better value with 'binwidth'.\n",
      "  warn(msg.format(params['bins']), PlotnineWarning)\n"
     ]
    },
    {
     "data": {
      "image/png": "[encoded data removed]",
      "text/plain": [
       "<Figure size 640x480 with 1 Axes>"
      ]
     },
     "metadata": {},
     "output_type": "display_data"
    },
    {
     "data": {
      "text/plain": [
       "<ggplot: (-9223371913910849760)>"
      ]
     },
     "execution_count": 40,
     "metadata": {},
     "output_type": "execute_result"
    }
   ],
   "source": [
    "ggplot(customers_fixed, aes(x = 'Recency')) + geom_histogram()"
   ]
  },
  {
   "cell_type": "code",
   "execution_count": 41,
   "metadata": {},
   "outputs": [
    {
     "name": "stderr",
     "output_type": "stream",
     "text": [
      "C:\\Users\\jade5\\anaconda3\\lib\\site-packages\\plotnine\\stats\\stat_bin.py:93: PlotnineWarning: 'stat_bin()' using 'bins = 48'. Pick better value with 'binwidth'.\n",
      "  warn(msg.format(params['bins']), PlotnineWarning)\n"
     ]
    },
    {
     "data": {
      "image/png": "[encoded data removed]",
      "text/plain": [
       "<Figure size 640x480 with 1 Axes>"
      ]
     },
     "metadata": {},
     "output_type": "display_data"
    },
    {
     "data": {
      "text/plain": [
       "<ggplot: (-9223371913910817656)>"
      ]
     },
     "execution_count": 41,
     "metadata": {},
     "output_type": "execute_result"
    }
   ],
   "source": [
    "ggplot(customers_fixed, aes(x = 'Frequency')) + geom_histogram()"
   ]
  },
  {
   "cell_type": "code",
   "execution_count": 42,
   "metadata": {},
   "outputs": [
    {
     "name": "stderr",
     "output_type": "stream",
     "text": [
      "C:\\Users\\jade5\\anaconda3\\lib\\site-packages\\plotnine\\stats\\stat_bin.py:93: PlotnineWarning: 'stat_bin()' using 'bins = 31'. Pick better value with 'binwidth'.\n",
      "  warn(msg.format(params['bins']), PlotnineWarning)\n"
     ]
    },
    {
     "data": {
      "image/png": "[encoded data removed]",
      "text/plain": [
       "<Figure size 640x480 with 1 Axes>"
      ]
     },
     "metadata": {},
     "output_type": "display_data"
    },
    {
     "data": {
      "text/plain": [
       "<ggplot: (-9223371913910786076)>"
      ]
     },
     "execution_count": 42,
     "metadata": {},
     "output_type": "execute_result"
    }
   ],
   "source": [
    "ggplot(customers_fixed, aes(x = 'MonetaryValue')) + geom_histogram()"
   ]
  },
  {
   "cell_type": "code",
   "execution_count": 43,
   "metadata": {},
   "outputs": [
    {
     "name": "stdout",
     "output_type": "stream",
     "text": [
      "[0. 0. 0.]\n"
     ]
    }
   ],
   "source": [
    "scaler = StandardScaler()\n",
    "\n",
    "scaler.fit(customers_fixed)\n",
    "customers_norm = scaler.transform(customers_fixed)\n",
    "print(customers_norm.mean(axis = 0).round(2))"
   ]
  },
  {
   "cell_type": "code",
   "execution_count": 44,
   "metadata": {},
   "outputs": [
    {
     "name": "stderr",
     "output_type": "stream",
     "text": [
      "C:\\Users\\jade5\\anaconda3\\lib\\site-packages\\sklearn\\utils\\deprecation.py:144: FutureWarning: The sklearn.metrics.classification module is  deprecated in version 0.22 and will be removed in version 0.24. The corresponding classes / functions should instead be imported from sklearn.metrics. Anything that cannot be imported from sklearn.metrics is now part of the private API.\n",
      "  warnings.warn(message, FutureWarning)\n"
     ]
    },
    {
     "data": {
      "image/png": "[encoded data removed]",
      "text/plain": [
       "<Figure size 576x396 with 2 Axes>"
      ]
     },
     "metadata": {},
     "output_type": "display_data"
    },
    {
     "data": {
      "text/plain": [
       "<matplotlib.axes._subplots.AxesSubplot at 0x1ca00bb4508>"
      ]
     },
     "execution_count": 44,
     "metadata": {},
     "output_type": "execute_result"
    }
   ],
   "source": [
    "km = KMeans()\n",
    "visualizer = KElbowVisualizer(km, k=(1,10))\n",
    "visualizer.fit(customers_norm)\n",
    "visualizer.show()"
   ]
  },
  {
   "cell_type": "code",
   "execution_count": 46,
   "metadata": {},
   "outputs": [
    {
     "data": {
      "text/plain": [
       "(2239,)"
      ]
     },
     "execution_count": 46,
     "metadata": {},
     "output_type": "execute_result"
    }
   ],
   "source": [
    "kmm = KMeans(n_clusters = 3, random_state = 410)\n",
    "kmm.fit(customers_norm)\n",
    "kmm.labels_.shape"
   ]
  },
  {
   "cell_type": "code",
   "execution_count": 49,
   "metadata": {},
   "outputs": [
    {
     "data": {
      "text/html": [
       "<div>\n",
       "<style scoped>\n",
       "    .dataframe tbody tr th:only-of-type {\n",
       "        vertical-align: middle;\n",
       "    }\n",
       "\n",
       "    .dataframe tbody tr th {\n",
       "        vertical-align: top;\n",
       "    }\n",
       "\n",
       "    .dataframe thead tr th {\n",
       "        text-align: left;\n",
       "    }\n",
       "\n",
       "    .dataframe thead tr:last-of-type th {\n",
       "        text-align: right;\n",
       "    }\n",
       "</style>\n",
       "<table border=\"1\" class=\"dataframe\">\n",
       "  <thead>\n",
       "    <tr>\n",
       "      <th></th>\n",
       "      <th>Recency</th>\n",
       "      <th>Frequency</th>\n",
       "      <th colspan=\"2\" halign=\"left\">Monetary Value</th>\n",
       "    </tr>\n",
       "    <tr>\n",
       "      <th></th>\n",
       "      <th>mean</th>\n",
       "      <th>mean</th>\n",
       "      <th>mean</th>\n",
       "      <th>count</th>\n",
       "    </tr>\n",
       "    <tr>\n",
       "      <th>Cluster</th>\n",
       "      <th></th>\n",
       "      <th></th>\n",
       "      <th></th>\n",
       "      <th></th>\n",
       "    </tr>\n",
       "  </thead>\n",
       "  <tbody>\n",
       "    <tr>\n",
       "      <th>0</th>\n",
       "      <td>20.41</td>\n",
       "      <td>1.00</td>\n",
       "      <td>131.10</td>\n",
       "      <td>908</td>\n",
       "    </tr>\n",
       "    <tr>\n",
       "      <th>1</th>\n",
       "      <td>207.26</td>\n",
       "      <td>1.00</td>\n",
       "      <td>49.48</td>\n",
       "      <td>1317</td>\n",
       "    </tr>\n",
       "    <tr>\n",
       "      <th>2</th>\n",
       "      <td>46.00</td>\n",
       "      <td>2.14</td>\n",
       "      <td>221.05</td>\n",
       "      <td>14</td>\n",
       "    </tr>\n",
       "  </tbody>\n",
       "</table>\n",
       "</div>"
      ],
      "text/plain": [
       "        Recency Frequency Monetary Value      \n",
       "           mean      mean           mean count\n",
       "Cluster                                       \n",
       "0         20.41      1.00         131.10   908\n",
       "1        207.26      1.00          49.48  1317\n",
       "2         46.00      2.14         221.05    14"
      ]
     },
     "execution_count": 49,
     "metadata": {},
     "output_type": "execute_result"
    }
   ],
   "source": [
    "customers[\"Cluster\"] = kmm.labels_\n",
    "customers.groupby('Cluster').agg({\n",
    "    'Recency' : 'mean',\n",
    "    'Frequency' : 'mean',\n",
    "    'Monetary Value' : ['mean', 'count']}).round(2)"
   ]
  },
  {
   "cell_type": "code",
   "execution_count": 52,
   "metadata": {},
   "outputs": [
    {
     "data": {
      "text/html": [
       "<div>\n",
       "<style scoped>\n",
       "    .dataframe tbody tr th:only-of-type {\n",
       "        vertical-align: middle;\n",
       "    }\n",
       "\n",
       "    .dataframe tbody tr th {\n",
       "        vertical-align: top;\n",
       "    }\n",
       "\n",
       "    .dataframe thead th {\n",
       "        text-align: right;\n",
       "    }\n",
       "</style>\n",
       "<table border=\"1\" class=\"dataframe\">\n",
       "  <thead>\n",
       "    <tr style=\"text-align: right;\">\n",
       "      <th></th>\n",
       "      <th>ID</th>\n",
       "      <th>Cluster</th>\n",
       "      <th>Attribute</th>\n",
       "      <th>Value</th>\n",
       "    </tr>\n",
       "  </thead>\n",
       "  <tbody>\n",
       "    <tr>\n",
       "      <th>0</th>\n",
       "      <td>9</td>\n",
       "      <td>0</td>\n",
       "      <td>Recency</td>\n",
       "      <td>-0.662250</td>\n",
       "    </tr>\n",
       "    <tr>\n",
       "      <th>1</th>\n",
       "      <td>12</td>\n",
       "      <td>1</td>\n",
       "      <td>Recency</td>\n",
       "      <td>0.614656</td>\n",
       "    </tr>\n",
       "    <tr>\n",
       "      <th>2</th>\n",
       "      <td>17</td>\n",
       "      <td>0</td>\n",
       "      <td>Recency</td>\n",
       "      <td>-1.332775</td>\n",
       "    </tr>\n",
       "    <tr>\n",
       "      <th>3</th>\n",
       "      <td>42</td>\n",
       "      <td>1</td>\n",
       "      <td>Recency</td>\n",
       "      <td>-0.148500</td>\n",
       "    </tr>\n",
       "    <tr>\n",
       "      <th>4</th>\n",
       "      <td>43</td>\n",
       "      <td>1</td>\n",
       "      <td>Recency</td>\n",
       "      <td>0.890654</td>\n",
       "    </tr>\n",
       "  </tbody>\n",
       "</table>\n",
       "</div>"
      ],
      "text/plain": [
       "   ID  Cluster Attribute     Value\n",
       "0   9        0   Recency -0.662250\n",
       "1  12        1   Recency  0.614656\n",
       "2  17        0   Recency -1.332775\n",
       "3  42        1   Recency -0.148500\n",
       "4  43        1   Recency  0.890654"
      ]
     },
     "execution_count": 52,
     "metadata": {},
     "output_type": "execute_result"
    }
   ],
   "source": [
    "subscribers_norm = pd.DataFrame(customers_norm, columns = ['Recency', 'Frequency', 'Monetary Value'])\n",
    "subscribers_norm['ID'] = customers.index\n",
    "subscribers_norm['Cluster'] = kmm.labels_\n",
    "\n",
    "subscribers_melt = pd.melt(subscribers_norm.reset_index(),\n",
    "                          id_vars = ['ID', 'Cluster'],\n",
    "                          value_vars = ['Recency', 'Frequency', 'Monetary Value'],\n",
    "                          var_name = 'Attribute',\n",
    "                          value_name = 'Value')\n",
    "subscribers_melt.head()"
   ]
  },
  {
   "cell_type": "code",
   "execution_count": 55,
   "metadata": {},
   "outputs": [
    {
     "data": {
      "text/plain": [
       "<matplotlib.axes._subplots.AxesSubplot at 0x1ca0068f148>"
      ]
     },
     "execution_count": 55,
     "metadata": {},
     "output_type": "execute_result"
    },
    {
     "data": {
      "image/png": "[encoded data removed]",
      "text/plain": [
       "<Figure size 576x396 with 1 Axes>"
      ]
     },
     "metadata": {},
     "output_type": "display_data"
    }
   ],
   "source": [
    "sb.lineplot('Attribute', 'Value', hue = 'Cluster', data = subscribers_melt)"
   ]
  },
  {
   "cell_type": "markdown",
   "metadata": {},
   "source": [
    "### TODO: snakeplot segment interpretation"
   ]
  },
  {
   "cell_type": "code",
   "execution_count": null,
   "metadata": {},
   "outputs": [],
   "source": []
  }
 ],
 "metadata": {
  "kernelspec": {
   "display_name": "Python 3",
   "language": "python",
   "name": "python3"
  },
  "language_info": {
   "codemirror_mode": {
    "name": "ipython",
    "version": 3
   },
   "file_extension": ".py",
   "mimetype": "text/x-python",
   "name": "python",
   "nbconvert_exporter": "python",
   "pygments_lexer": "ipython3",
   "version": "3.7.6"
  }
 },
 "nbformat": 4,
 "nbformat_minor": 4
}
